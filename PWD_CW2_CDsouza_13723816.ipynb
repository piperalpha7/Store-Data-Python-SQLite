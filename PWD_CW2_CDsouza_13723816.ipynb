{
 "cells": [
  {
   "cell_type": "markdown",
   "id": "59674940",
   "metadata": {},
   "source": [
    "### Preparing the data with pandas library ###"
   ]
  },
  {
   "cell_type": "code",
   "execution_count": 1,
   "id": "29c93b28",
   "metadata": {},
   "outputs": [],
   "source": [
    "import sqlite3\n",
    "import pandas as pd\n",
    "import csv\n",
    "import json\n",
    "import copy\n",
    "import numpy as np\n",
    "import seaborn as sns\n",
    "import matplotlib.pyplot as plt"
   ]
  },
  {
   "cell_type": "code",
   "execution_count": 2,
   "id": "442be34d",
   "metadata": {},
   "outputs": [],
   "source": [
    "## As we see in the CSV file, the sales data was without column names.Hence adding them #\n",
    "df_sales=pd.read_csv('YearlySales2010-2019.csv',usecols=[0,1,2,3,4,5],header=None,names=[\"Name\", \"Year\", \"Area\", \"City\" ,\"Open_Year\", \"Sales\"])"
   ]
  },
  {
   "cell_type": "code",
   "execution_count": 3,
   "id": "1ff2116f",
   "metadata": {},
   "outputs": [
    {
     "data": {
      "text/html": [
       "<div>\n",
       "<style scoped>\n",
       "    .dataframe tbody tr th:only-of-type {\n",
       "        vertical-align: middle;\n",
       "    }\n",
       "\n",
       "    .dataframe tbody tr th {\n",
       "        vertical-align: top;\n",
       "    }\n",
       "\n",
       "    .dataframe thead th {\n",
       "        text-align: right;\n",
       "    }\n",
       "</style>\n",
       "<table border=\"1\" class=\"dataframe\">\n",
       "  <thead>\n",
       "    <tr style=\"text-align: right;\">\n",
       "      <th></th>\n",
       "      <th>Name</th>\n",
       "      <th>Year</th>\n",
       "      <th>Area</th>\n",
       "      <th>City</th>\n",
       "      <th>Open_Year</th>\n",
       "      <th>Sales</th>\n",
       "    </tr>\n",
       "  </thead>\n",
       "  <tbody>\n",
       "    <tr>\n",
       "      <th>0</th>\n",
       "      <td>London21</td>\n",
       "      <td>2010</td>\n",
       "      <td>275</td>\n",
       "      <td>London</td>\n",
       "      <td>1981</td>\n",
       "      <td>717144</td>\n",
       "    </tr>\n",
       "    <tr>\n",
       "      <th>1</th>\n",
       "      <td>London21</td>\n",
       "      <td>2011</td>\n",
       "      <td>275</td>\n",
       "      <td>London</td>\n",
       "      <td>1981</td>\n",
       "      <td>746104</td>\n",
       "    </tr>\n",
       "    <tr>\n",
       "      <th>2</th>\n",
       "      <td>London21</td>\n",
       "      <td>2012</td>\n",
       "      <td>275</td>\n",
       "      <td>London</td>\n",
       "      <td>1981</td>\n",
       "      <td>843560</td>\n",
       "    </tr>\n",
       "    <tr>\n",
       "      <th>3</th>\n",
       "      <td>London21</td>\n",
       "      <td>2013</td>\n",
       "      <td>275</td>\n",
       "      <td>London</td>\n",
       "      <td>1981</td>\n",
       "      <td>892459</td>\n",
       "    </tr>\n",
       "    <tr>\n",
       "      <th>4</th>\n",
       "      <td>London21</td>\n",
       "      <td>2014</td>\n",
       "      <td>275</td>\n",
       "      <td>London</td>\n",
       "      <td>1981</td>\n",
       "      <td>782720</td>\n",
       "    </tr>\n",
       "  </tbody>\n",
       "</table>\n",
       "</div>"
      ],
      "text/plain": [
       "       Name  Year  Area    City  Open_Year   Sales\n",
       "0  London21  2010   275  London       1981  717144\n",
       "1  London21  2011   275  London       1981  746104\n",
       "2  London21  2012   275  London       1981  843560\n",
       "3  London21  2013   275  London       1981  892459\n",
       "4  London21  2014   275  London       1981  782720"
      ]
     },
     "execution_count": 3,
     "metadata": {},
     "output_type": "execute_result"
    }
   ],
   "source": [
    "df_sales.head()"
   ]
  },
  {
   "cell_type": "code",
   "execution_count": 4,
   "id": "3462204f",
   "metadata": {},
   "outputs": [],
   "source": [
    "# Cleaning the marketing data csv, specifically the location and the year columns and loading in a dataframe#\n",
    "df_marketing= pd.read_csv('MarketingSpend2010-2019.csv')"
   ]
  },
  {
   "cell_type": "code",
   "execution_count": 5,
   "id": "893089b7",
   "metadata": {},
   "outputs": [
    {
     "name": "stderr",
     "output_type": "stream",
     "text": [
      "C:\\Users\\charl\\AppData\\Local\\Temp/ipykernel_4940/4005077137.py:1: FutureWarning: Columnar iteration over characters will be deprecated in future releases.\n",
      "  df_marketing['Year'], df_marketing['MarketingSpend'] = df_marketing['MarketingSpend'].str.split(',', 1).str\n"
     ]
    }
   ],
   "source": [
    "df_marketing['Year'], df_marketing['MarketingSpend'] = df_marketing['MarketingSpend'].str.split(',', 1).str"
   ]
  },
  {
   "cell_type": "code",
   "execution_count": 6,
   "id": "200c8514",
   "metadata": {},
   "outputs": [],
   "source": [
    "# Removing the unnecessary punctuations from the data#\n",
    "df_marketing['MarketingSpend']=df_marketing['MarketingSpend'].apply(lambda x:x.strip(')'))\n",
    "df_marketing['MarketingSpend']=df_marketing['MarketingSpend'].astype(int)\n",
    "df_marketing['Year']=df_marketing['Year'].apply(lambda x:x.strip('('))"
   ]
  },
  {
   "cell_type": "code",
   "execution_count": 7,
   "id": "f0badb82",
   "metadata": {},
   "outputs": [
    {
     "name": "stderr",
     "output_type": "stream",
     "text": [
      "C:\\Users\\charl\\AppData\\Local\\Temp/ipykernel_4940/3365094531.py:2: FutureWarning: Columnar iteration over characters will be deprecated in future releases.\n",
      "  df_marketing['City'], df_marketing['Pcode'] = df_marketing['Location'].str.split(';', 1).str\n"
     ]
    }
   ],
   "source": [
    "# Removing Punctuations and reordering the column #\n",
    "df_marketing['City'], df_marketing['Pcode'] = df_marketing['Location'].str.split(';', 1).str\n",
    "df_marketing = df_marketing.drop(labels=\"City\", axis=1)\n",
    "df_marketing=df_marketing[[\"Name\", \"Year\",\"Pcode\", \"MarketingSpend\"]]"
   ]
  },
  {
   "cell_type": "code",
   "execution_count": 8,
   "id": "be1d2c31",
   "metadata": {},
   "outputs": [
    {
     "data": {
      "text/html": [
       "<div>\n",
       "<style scoped>\n",
       "    .dataframe tbody tr th:only-of-type {\n",
       "        vertical-align: middle;\n",
       "    }\n",
       "\n",
       "    .dataframe tbody tr th {\n",
       "        vertical-align: top;\n",
       "    }\n",
       "\n",
       "    .dataframe thead th {\n",
       "        text-align: right;\n",
       "    }\n",
       "</style>\n",
       "<table border=\"1\" class=\"dataframe\">\n",
       "  <thead>\n",
       "    <tr style=\"text-align: right;\">\n",
       "      <th></th>\n",
       "      <th>Name</th>\n",
       "      <th>Year</th>\n",
       "      <th>Area</th>\n",
       "      <th>City</th>\n",
       "      <th>Open_Year</th>\n",
       "      <th>Sales</th>\n",
       "    </tr>\n",
       "  </thead>\n",
       "  <tbody>\n",
       "    <tr>\n",
       "      <th>0</th>\n",
       "      <td>London21</td>\n",
       "      <td>2010</td>\n",
       "      <td>275</td>\n",
       "      <td>London</td>\n",
       "      <td>1981</td>\n",
       "      <td>717144</td>\n",
       "    </tr>\n",
       "    <tr>\n",
       "      <th>1</th>\n",
       "      <td>London21</td>\n",
       "      <td>2011</td>\n",
       "      <td>275</td>\n",
       "      <td>London</td>\n",
       "      <td>1981</td>\n",
       "      <td>746104</td>\n",
       "    </tr>\n",
       "    <tr>\n",
       "      <th>2</th>\n",
       "      <td>London21</td>\n",
       "      <td>2012</td>\n",
       "      <td>275</td>\n",
       "      <td>London</td>\n",
       "      <td>1981</td>\n",
       "      <td>843560</td>\n",
       "    </tr>\n",
       "    <tr>\n",
       "      <th>3</th>\n",
       "      <td>London21</td>\n",
       "      <td>2013</td>\n",
       "      <td>275</td>\n",
       "      <td>London</td>\n",
       "      <td>1981</td>\n",
       "      <td>892459</td>\n",
       "    </tr>\n",
       "    <tr>\n",
       "      <th>4</th>\n",
       "      <td>London21</td>\n",
       "      <td>2014</td>\n",
       "      <td>275</td>\n",
       "      <td>London</td>\n",
       "      <td>1981</td>\n",
       "      <td>782720</td>\n",
       "    </tr>\n",
       "  </tbody>\n",
       "</table>\n",
       "</div>"
      ],
      "text/plain": [
       "       Name  Year  Area    City  Open_Year   Sales\n",
       "0  London21  2010   275  London       1981  717144\n",
       "1  London21  2011   275  London       1981  746104\n",
       "2  London21  2012   275  London       1981  843560\n",
       "3  London21  2013   275  London       1981  892459\n",
       "4  London21  2014   275  London       1981  782720"
      ]
     },
     "execution_count": 8,
     "metadata": {},
     "output_type": "execute_result"
    }
   ],
   "source": [
    "df_sales.head()"
   ]
  },
  {
   "cell_type": "code",
   "execution_count": 9,
   "id": "8db61c4d",
   "metadata": {},
   "outputs": [
    {
     "data": {
      "text/html": [
       "<div>\n",
       "<style scoped>\n",
       "    .dataframe tbody tr th:only-of-type {\n",
       "        vertical-align: middle;\n",
       "    }\n",
       "\n",
       "    .dataframe tbody tr th {\n",
       "        vertical-align: top;\n",
       "    }\n",
       "\n",
       "    .dataframe thead th {\n",
       "        text-align: right;\n",
       "    }\n",
       "</style>\n",
       "<table border=\"1\" class=\"dataframe\">\n",
       "  <thead>\n",
       "    <tr style=\"text-align: right;\">\n",
       "      <th></th>\n",
       "      <th>Name</th>\n",
       "      <th>Year</th>\n",
       "      <th>Pcode</th>\n",
       "      <th>MarketingSpend</th>\n",
       "    </tr>\n",
       "  </thead>\n",
       "  <tbody>\n",
       "    <tr>\n",
       "      <th>0</th>\n",
       "      <td>London21</td>\n",
       "      <td>2010-2011</td>\n",
       "      <td>NE7 3VL</td>\n",
       "      <td>85792</td>\n",
       "    </tr>\n",
       "    <tr>\n",
       "      <th>1</th>\n",
       "      <td>London21</td>\n",
       "      <td>2012-2013</td>\n",
       "      <td>NE7 3VL</td>\n",
       "      <td>74479</td>\n",
       "    </tr>\n",
       "    <tr>\n",
       "      <th>2</th>\n",
       "      <td>London21</td>\n",
       "      <td>2014-2015</td>\n",
       "      <td>NE7 3VL</td>\n",
       "      <td>85506</td>\n",
       "    </tr>\n",
       "    <tr>\n",
       "      <th>3</th>\n",
       "      <td>London21</td>\n",
       "      <td>2016-2017</td>\n",
       "      <td>NE7 3VL</td>\n",
       "      <td>87320</td>\n",
       "    </tr>\n",
       "    <tr>\n",
       "      <th>4</th>\n",
       "      <td>London21</td>\n",
       "      <td>2018-2019</td>\n",
       "      <td>NE7 3VL</td>\n",
       "      <td>73292</td>\n",
       "    </tr>\n",
       "  </tbody>\n",
       "</table>\n",
       "</div>"
      ],
      "text/plain": [
       "       Name       Year    Pcode  MarketingSpend\n",
       "0  London21  2010-2011  NE7 3VL           85792\n",
       "1  London21  2012-2013  NE7 3VL           74479\n",
       "2  London21  2014-2015  NE7 3VL           85506\n",
       "3  London21  2016-2017  NE7 3VL           87320\n",
       "4  London21  2018-2019  NE7 3VL           73292"
      ]
     },
     "execution_count": 9,
     "metadata": {},
     "output_type": "execute_result"
    }
   ],
   "source": [
    "df_marketing.head()"
   ]
  },
  {
   "cell_type": "markdown",
   "id": "500a177f",
   "metadata": {},
   "source": [
    "### Soln -1 a- Creating a normalised SQLite Data Base ###"
   ]
  },
  {
   "cell_type": "code",
   "execution_count": 10,
   "id": "2d4c7975",
   "metadata": {},
   "outputs": [],
   "source": [
    "# Opening a database by the name stores#\n",
    "conn=sqlite3.connect('Stores.db')\n",
    "cursor=conn.cursor()"
   ]
  },
  {
   "cell_type": "code",
   "execution_count": 11,
   "id": "797ed6f8",
   "metadata": {},
   "outputs": [
    {
     "data": {
      "text/plain": [
       "<sqlite3.Cursor at 0x1c7059fbb90>"
      ]
     },
     "execution_count": 11,
     "metadata": {},
     "output_type": "execute_result"
    }
   ],
   "source": [
    "# Creating a table 'sales' directly from the CSV, will act as a base table#\n",
    "cursor.execute(\"CREATE TABLE sales(Name VARCHAR(24),Year INTEGER,Area INTEGER, City VARCHAR(24),Open_year INTEGER,Sales INTEGER)\")\n"
   ]
  },
  {
   "cell_type": "code",
   "execution_count": 12,
   "id": "4f769bb4",
   "metadata": {},
   "outputs": [],
   "source": [
    "conn.commit()"
   ]
  },
  {
   "cell_type": "code",
   "execution_count": 13,
   "id": "8258b473",
   "metadata": {},
   "outputs": [
    {
     "data": {
      "text/plain": [
       "<sqlite3.Cursor at 0x1c7059fbb90>"
      ]
     },
     "execution_count": 13,
     "metadata": {},
     "output_type": "execute_result"
    }
   ],
   "source": [
    "# Creating a table 'marketing' directly as per csv and will act as a base table#\n",
    "cursor.execute(\"CREATE TABLE marketing(Name VARCHAR(24),Year INTEGER,Pcode VARCHAR(24),MarketingSpend INTEGER)\")"
   ]
  },
  {
   "cell_type": "code",
   "execution_count": 14,
   "id": "9429a259",
   "metadata": {},
   "outputs": [],
   "source": [
    "conn.commit()"
   ]
  },
  {
   "cell_type": "code",
   "execution_count": 15,
   "id": "991b3a91",
   "metadata": {},
   "outputs": [],
   "source": [
    "# Converting the sales dataframe to a table in sqlite3#\n",
    "df_sales.to_sql(\"sales\", conn, if_exists=\"append\",index=False)"
   ]
  },
  {
   "cell_type": "code",
   "execution_count": 16,
   "id": "0cc601b3",
   "metadata": {},
   "outputs": [],
   "source": [
    "conn.commit()"
   ]
  },
  {
   "cell_type": "code",
   "execution_count": 17,
   "id": "6b9e0e98",
   "metadata": {},
   "outputs": [],
   "source": [
    "# Converting the marketing dataframe to a table in sqlite3#\n",
    "df_marketing.to_sql(\"marketing\", conn, if_exists=\"append\",index=False)"
   ]
  },
  {
   "cell_type": "code",
   "execution_count": 18,
   "id": "ede0146e",
   "metadata": {},
   "outputs": [],
   "source": [
    "conn.commit()"
   ]
  },
  {
   "cell_type": "code",
   "execution_count": 19,
   "id": "26dffd29",
   "metadata": {},
   "outputs": [
    {
     "data": {
      "text/plain": [
       "<sqlite3.Cursor at 0x1c7059fbb90>"
      ]
     },
     "execution_count": 19,
     "metadata": {},
     "output_type": "execute_result"
    }
   ],
   "source": [
    "# Creating a table where store information is stored#\n",
    "cursor.execute(\"CREATE TABLE store_info(Name VARCHAR(24) PRIMARY KEY,Area INTEGER, City VARCHAR(24),Open_year INTEGER)\")\n"
   ]
  },
  {
   "cell_type": "code",
   "execution_count": 20,
   "id": "b743e649",
   "metadata": {},
   "outputs": [],
   "source": [
    "conn.commit()"
   ]
  },
  {
   "cell_type": "code",
   "execution_count": 21,
   "id": "428694a0",
   "metadata": {},
   "outputs": [
    {
     "data": {
      "text/plain": [
       "<sqlite3.Cursor at 0x1c7059fbb90>"
      ]
     },
     "execution_count": 21,
     "metadata": {},
     "output_type": "execute_result"
    }
   ],
   "source": [
    "# Inserting values into the store_info table from the above base tables#\n",
    "cursor.execute(\"INSERT INTO store_info (Name,Area,City,Open_year) SELECT DISTINCT Name,Area,City,Open_year FROM sales\")"
   ]
  },
  {
   "cell_type": "code",
   "execution_count": 22,
   "id": "57838ceb",
   "metadata": {},
   "outputs": [],
   "source": [
    "conn.commit()"
   ]
  },
  {
   "cell_type": "code",
   "execution_count": 23,
   "id": "5d0e69e2",
   "metadata": {},
   "outputs": [
    {
     "data": {
      "text/plain": [
       "<sqlite3.Cursor at 0x1c7059fbb90>"
      ]
     },
     "execution_count": 23,
     "metadata": {},
     "output_type": "execute_result"
    }
   ],
   "source": [
    "# Creating a table where sales information for various stores is stored#\n",
    "cursor.execute(\"CREATE TABLE sales_info(Name VARCHAR(24), Year INTEGER, Sales INTEGER, PRIMARY KEY(Name,Year), FOREIGN KEY(Name) REFERENCES store_info(Name))\")"
   ]
  },
  {
   "cell_type": "code",
   "execution_count": 24,
   "id": "0c429ae4",
   "metadata": {},
   "outputs": [],
   "source": [
    "conn.commit()"
   ]
  },
  {
   "cell_type": "code",
   "execution_count": 25,
   "id": "dd19c23f",
   "metadata": {},
   "outputs": [
    {
     "data": {
      "text/plain": [
       "<sqlite3.Cursor at 0x1c7059fbb90>"
      ]
     },
     "execution_count": 25,
     "metadata": {},
     "output_type": "execute_result"
    }
   ],
   "source": [
    "# Inserting values into the sales_info table from base tables#\n",
    "cursor.execute(\"INSERT INTO sales_info (Name,Year,Sales) SELECT Name,Year,Sales FROM Sales\")"
   ]
  },
  {
   "cell_type": "code",
   "execution_count": 26,
   "id": "2395171f",
   "metadata": {},
   "outputs": [],
   "source": [
    "conn.commit()"
   ]
  },
  {
   "cell_type": "code",
   "execution_count": 27,
   "id": "cbf07c38",
   "metadata": {},
   "outputs": [
    {
     "data": {
      "text/plain": [
       "<sqlite3.Cursor at 0x1c7059fbb90>"
      ]
     },
     "execution_count": 27,
     "metadata": {},
     "output_type": "execute_result"
    }
   ],
   "source": [
    "# Creating a table where marketing information for various stores is stored# \n",
    "cursor.execute(\"CREATE TABLE marketing_info(Name VARCHAR(24), Year VARCHAR(24), MarketingSpend INTEGER,PRIMARY KEY(Name,Year),FOREIGN KEY(Name) REFERENCES store_info(Name))\")"
   ]
  },
  {
   "cell_type": "code",
   "execution_count": 28,
   "id": "f094f2ff",
   "metadata": {},
   "outputs": [],
   "source": [
    "conn.commit()"
   ]
  },
  {
   "cell_type": "code",
   "execution_count": 29,
   "id": "052ca96b",
   "metadata": {},
   "outputs": [
    {
     "data": {
      "text/plain": [
       "<sqlite3.Cursor at 0x1c7059fbb90>"
      ]
     },
     "execution_count": 29,
     "metadata": {},
     "output_type": "execute_result"
    }
   ],
   "source": [
    "# Inserting values into the marketing_info table from base tables#\n",
    "cursor.execute('INSERT INTO marketing_info (Name,Year,Marketingspend) SELECT Name,Year,Marketingspend FROM marketing')"
   ]
  },
  {
   "cell_type": "code",
   "execution_count": 30,
   "id": "41fed1f5",
   "metadata": {},
   "outputs": [],
   "source": [
    "conn.commit()"
   ]
  },
  {
   "cell_type": "code",
   "execution_count": 31,
   "id": "4e99885b",
   "metadata": {},
   "outputs": [
    {
     "data": {
      "text/plain": [
       "<sqlite3.Cursor at 0x1c7059fbb90>"
      ]
     },
     "execution_count": 31,
     "metadata": {},
     "output_type": "execute_result"
    }
   ],
   "source": [
    "# Creating a temporary table which will serve as a base table#\n",
    "cursor.execute(\"CREATE TABLE m_trial(Name VARCHAR(24), Year VARCHAR(24),Pcode VARCHAR(24), MarketingSpend INTEGER,PRIMARY KEY(Name,Year),FOREIGN KEY(Name) REFERENCES store_info(Name))\")"
   ]
  },
  {
   "cell_type": "code",
   "execution_count": 32,
   "id": "91b43569",
   "metadata": {},
   "outputs": [],
   "source": [
    "conn.commit()"
   ]
  },
  {
   "cell_type": "code",
   "execution_count": 33,
   "id": "6047c25e",
   "metadata": {},
   "outputs": [
    {
     "data": {
      "text/plain": [
       "<sqlite3.Cursor at 0x1c7059fbb90>"
      ]
     },
     "execution_count": 33,
     "metadata": {},
     "output_type": "execute_result"
    }
   ],
   "source": [
    "# The location column is an addition in this table when compared to the marketing_info table#\n",
    "cursor.execute('INSERT INTO m_trial (Name,Year,Pcode,Marketingspend) SELECT Name,Year,Pcode,Marketingspend FROM marketing')"
   ]
  },
  {
   "cell_type": "code",
   "execution_count": 34,
   "id": "3ca0f530",
   "metadata": {},
   "outputs": [],
   "source": [
    "conn.commit()"
   ]
  },
  {
   "cell_type": "code",
   "execution_count": 35,
   "id": "34f6cae3",
   "metadata": {},
   "outputs": [
    {
     "data": {
      "text/plain": [
       "<sqlite3.Cursor at 0x1c7059fbb90>"
      ]
     },
     "execution_count": 35,
     "metadata": {},
     "output_type": "execute_result"
    }
   ],
   "source": [
    "# Creating a table containing all information from store_info and location from m_trial#\n",
    "cursor.execute('CREATE TABLE store_data AS select distinct a.*,b.pcode from store_info a left join m_trial b on a.name=b.name')\n"
   ]
  },
  {
   "cell_type": "code",
   "execution_count": 36,
   "id": "76a52f13",
   "metadata": {},
   "outputs": [],
   "source": [
    "conn.commit()"
   ]
  },
  {
   "cell_type": "code",
   "execution_count": 37,
   "id": "d5dcde99",
   "metadata": {},
   "outputs": [
    {
     "data": {
      "text/plain": [
       "<sqlite3.Cursor at 0x1c7059fbb90>"
      ]
     },
     "execution_count": 37,
     "metadata": {},
     "output_type": "execute_result"
    }
   ],
   "source": [
    "# Deleting all base tables, after extracting and arranging all information in other tables #\n",
    "cursor.execute(\"DROP TABLE IF EXISTS m_trial\")\n",
    "cursor.execute(\"DROP TABLE IF EXISTS store_info\")\n",
    "cursor.execute(\"DROP TABLE IF EXISTS sales\")\n",
    "cursor.execute(\"DROP TABLE IF EXISTS marketing\")"
   ]
  },
  {
   "cell_type": "code",
   "execution_count": 38,
   "id": "9259c1cf",
   "metadata": {},
   "outputs": [],
   "source": [
    "conn.commit()"
   ]
  },
  {
   "cell_type": "markdown",
   "id": "0e143cbc",
   "metadata": {},
   "source": [
    "### Solution 1-b- Creating a store_size column in a table and populating it with the    right description ###"
   ]
  },
  {
   "cell_type": "code",
   "execution_count": 39,
   "id": "43e27103",
   "metadata": {},
   "outputs": [
    {
     "data": {
      "text/plain": [
       "<sqlite3.Cursor at 0x1c7059fbb90>"
      ]
     },
     "execution_count": 39,
     "metadata": {},
     "output_type": "execute_result"
    }
   ],
   "source": [
    "# As per 1-b Creating a new column 'store_size' in the table 'store_data'#\n",
    "cursor.execute('ALTER TABLE store_data ADD COLUMN store_size VARCHAR(24)')"
   ]
  },
  {
   "cell_type": "code",
   "execution_count": 40,
   "id": "276670a6",
   "metadata": {},
   "outputs": [
    {
     "data": {
      "text/plain": [
       "<sqlite3.Cursor at 0x1c7059fbb90>"
      ]
     },
     "execution_count": 40,
     "metadata": {},
     "output_type": "execute_result"
    }
   ],
   "source": [
    "# Populating the store_size column with the desired descriptions#\n",
    "cursor.execute('''UPDATE store_data SET store_size = 'Small' WHERE Area < 1000''')\n",
    "cursor.execute('''UPDATE store_data SET store_size = 'Medium' WHERE Area >= 1000 and Area<=4000''') \n",
    "cursor.execute('''UPDATE store_data SET store_size = 'Large' WHERE Area > 4000''')\n",
    "               "
   ]
  },
  {
   "cell_type": "code",
   "execution_count": 41,
   "id": "114dc7b6",
   "metadata": {},
   "outputs": [],
   "source": [
    "conn.commit()"
   ]
  },
  {
   "cell_type": "code",
   "execution_count": 42,
   "id": "8073a872",
   "metadata": {},
   "outputs": [
    {
     "name": "stdout",
     "output_type": "stream",
     "text": [
      "[('sales_info',), ('marketing_info',), ('store_data',)]\n"
     ]
    }
   ],
   "source": [
    "# List of the tables in the database #\n",
    "cursor.execute(\"SELECT name FROM sqlite_master WHERE type='table'\")\n",
    "print(cursor.fetchall())"
   ]
  },
  {
   "cell_type": "markdown",
   "id": "ae6d98f1",
   "metadata": {},
   "source": [
    "### Solution-1-c-Collecting the minimum, mean and maximum sales data for each of the store sizes ###"
   ]
  },
  {
   "cell_type": "code",
   "execution_count": 43,
   "id": "aaa6f56f",
   "metadata": {},
   "outputs": [
    {
     "data": {
      "text/plain": [
       "[(2010, 'Large', 5025220, 9948300, 7443921.833),\n",
       " (2010, 'Medium', 1239054, 10879916, 3961769.023),\n",
       " (2010, 'Small', 716994, 899886, 820415.647),\n",
       " (2011, 'Large', 5425048, 10299090, 7587367.917),\n",
       " (2011, 'Medium', 1200117, 10209396, 3927108.795),\n",
       " (2011, 'Small', 700252, 882538, 789511.118),\n",
       " (2012, 'Large', 5315163, 10535206, 8193226.667),\n",
       " (2012, 'Medium', 1286037, 10115883, 3857584.864),\n",
       " (2012, 'Small', 705517, 899283, 820607.824),\n",
       " (2013, 'Large', 6928616, 10077952, 8603598.333),\n",
       " (2013, 'Medium', 1214273, 10932803, 4164988.5),\n",
       " (2013, 'Small', 701446, 899903, 801941.824),\n",
       " (2014, 'Large', 6618923, 10733767, 8713484.0),\n",
       " (2014, 'Medium', 1208364, 10968327, 3864360.114),\n",
       " (2014, 'Small', 700093, 891037, 790390.029),\n",
       " (2015, 'Large', 5024573, 10663025, 7437140.083),\n",
       " (2015, 'Medium', 1220658, 10652502, 3636965.932),\n",
       " (2015, 'Small', 703880, 894129, 799064.412),\n",
       " (2016, 'Large', 5326210, 10917984, 7296418.25),\n",
       " (2016, 'Medium', 1305601, 10621115, 3703528.364),\n",
       " (2016, 'Small', 708052, 898997, 814905.5),\n",
       " (2017, 'Large', 5510845, 10626861, 8045856.0),\n",
       " (2017, 'Medium', 1272499, 10979691, 4083782.682),\n",
       " (2017, 'Small', 700376, 895626, 788126.353),\n",
       " (2018, 'Large', 5391320, 10588033, 8550336.083),\n",
       " (2018, 'Medium', 1320367, 9676577, 3818022.977),\n",
       " (2018, 'Small', 709067, 899305, 812216.765),\n",
       " (2019, 'Large', 5777771, 9966444, 7457349.417),\n",
       " (2019, 'Medium', 1245489, 10577619, 3789454.977),\n",
       " (2019, 'Small', 706027, 897812, 798687.853)]"
      ]
     },
     "execution_count": 43,
     "metadata": {},
     "output_type": "execute_result"
    }
   ],
   "source": [
    "# Soln-1-c Collating the minimum, mean and maximum for each of the store sizes #\n",
    "query1= 'select year,store_size, min(sales) as min_sales, max(sales) as  max_sales,round(avg(sales),3) as mean_sales from store_data a inner join sales_info b on a.name = b.name group by year,store_size ORDER BY year'\n",
    "cursor.execute(query1).fetchall()"
   ]
  },
  {
   "cell_type": "code",
   "execution_count": 44,
   "id": "6603c5e1",
   "metadata": {},
   "outputs": [
    {
     "data": {
      "text/html": [
       "<div>\n",
       "<style scoped>\n",
       "    .dataframe tbody tr th:only-of-type {\n",
       "        vertical-align: middle;\n",
       "    }\n",
       "\n",
       "    .dataframe tbody tr th {\n",
       "        vertical-align: top;\n",
       "    }\n",
       "\n",
       "    .dataframe thead th {\n",
       "        text-align: right;\n",
       "    }\n",
       "</style>\n",
       "<table border=\"1\" class=\"dataframe\">\n",
       "  <thead>\n",
       "    <tr style=\"text-align: right;\">\n",
       "      <th></th>\n",
       "      <th>Year</th>\n",
       "      <th>store_size</th>\n",
       "      <th>min_sales</th>\n",
       "      <th>max_sales</th>\n",
       "      <th>mean_sales</th>\n",
       "    </tr>\n",
       "  </thead>\n",
       "  <tbody>\n",
       "    <tr>\n",
       "      <th>0</th>\n",
       "      <td>2010</td>\n",
       "      <td>Large</td>\n",
       "      <td>5025220</td>\n",
       "      <td>9948300</td>\n",
       "      <td>7443921.833</td>\n",
       "    </tr>\n",
       "    <tr>\n",
       "      <th>1</th>\n",
       "      <td>2010</td>\n",
       "      <td>Medium</td>\n",
       "      <td>1239054</td>\n",
       "      <td>10879916</td>\n",
       "      <td>3961769.023</td>\n",
       "    </tr>\n",
       "    <tr>\n",
       "      <th>2</th>\n",
       "      <td>2010</td>\n",
       "      <td>Small</td>\n",
       "      <td>716994</td>\n",
       "      <td>899886</td>\n",
       "      <td>820415.647</td>\n",
       "    </tr>\n",
       "    <tr>\n",
       "      <th>3</th>\n",
       "      <td>2011</td>\n",
       "      <td>Large</td>\n",
       "      <td>5425048</td>\n",
       "      <td>10299090</td>\n",
       "      <td>7587367.917</td>\n",
       "    </tr>\n",
       "    <tr>\n",
       "      <th>4</th>\n",
       "      <td>2011</td>\n",
       "      <td>Medium</td>\n",
       "      <td>1200117</td>\n",
       "      <td>10209396</td>\n",
       "      <td>3927108.795</td>\n",
       "    </tr>\n",
       "    <tr>\n",
       "      <th>5</th>\n",
       "      <td>2011</td>\n",
       "      <td>Small</td>\n",
       "      <td>700252</td>\n",
       "      <td>882538</td>\n",
       "      <td>789511.118</td>\n",
       "    </tr>\n",
       "    <tr>\n",
       "      <th>6</th>\n",
       "      <td>2012</td>\n",
       "      <td>Large</td>\n",
       "      <td>5315163</td>\n",
       "      <td>10535206</td>\n",
       "      <td>8193226.667</td>\n",
       "    </tr>\n",
       "    <tr>\n",
       "      <th>7</th>\n",
       "      <td>2012</td>\n",
       "      <td>Medium</td>\n",
       "      <td>1286037</td>\n",
       "      <td>10115883</td>\n",
       "      <td>3857584.864</td>\n",
       "    </tr>\n",
       "    <tr>\n",
       "      <th>8</th>\n",
       "      <td>2012</td>\n",
       "      <td>Small</td>\n",
       "      <td>705517</td>\n",
       "      <td>899283</td>\n",
       "      <td>820607.824</td>\n",
       "    </tr>\n",
       "    <tr>\n",
       "      <th>9</th>\n",
       "      <td>2013</td>\n",
       "      <td>Large</td>\n",
       "      <td>6928616</td>\n",
       "      <td>10077952</td>\n",
       "      <td>8603598.333</td>\n",
       "    </tr>\n",
       "    <tr>\n",
       "      <th>10</th>\n",
       "      <td>2013</td>\n",
       "      <td>Medium</td>\n",
       "      <td>1214273</td>\n",
       "      <td>10932803</td>\n",
       "      <td>4164988.500</td>\n",
       "    </tr>\n",
       "    <tr>\n",
       "      <th>11</th>\n",
       "      <td>2013</td>\n",
       "      <td>Small</td>\n",
       "      <td>701446</td>\n",
       "      <td>899903</td>\n",
       "      <td>801941.824</td>\n",
       "    </tr>\n",
       "    <tr>\n",
       "      <th>12</th>\n",
       "      <td>2014</td>\n",
       "      <td>Large</td>\n",
       "      <td>6618923</td>\n",
       "      <td>10733767</td>\n",
       "      <td>8713484.000</td>\n",
       "    </tr>\n",
       "    <tr>\n",
       "      <th>13</th>\n",
       "      <td>2014</td>\n",
       "      <td>Medium</td>\n",
       "      <td>1208364</td>\n",
       "      <td>10968327</td>\n",
       "      <td>3864360.114</td>\n",
       "    </tr>\n",
       "    <tr>\n",
       "      <th>14</th>\n",
       "      <td>2014</td>\n",
       "      <td>Small</td>\n",
       "      <td>700093</td>\n",
       "      <td>891037</td>\n",
       "      <td>790390.029</td>\n",
       "    </tr>\n",
       "    <tr>\n",
       "      <th>15</th>\n",
       "      <td>2015</td>\n",
       "      <td>Large</td>\n",
       "      <td>5024573</td>\n",
       "      <td>10663025</td>\n",
       "      <td>7437140.083</td>\n",
       "    </tr>\n",
       "    <tr>\n",
       "      <th>16</th>\n",
       "      <td>2015</td>\n",
       "      <td>Medium</td>\n",
       "      <td>1220658</td>\n",
       "      <td>10652502</td>\n",
       "      <td>3636965.932</td>\n",
       "    </tr>\n",
       "    <tr>\n",
       "      <th>17</th>\n",
       "      <td>2015</td>\n",
       "      <td>Small</td>\n",
       "      <td>703880</td>\n",
       "      <td>894129</td>\n",
       "      <td>799064.412</td>\n",
       "    </tr>\n",
       "    <tr>\n",
       "      <th>18</th>\n",
       "      <td>2016</td>\n",
       "      <td>Large</td>\n",
       "      <td>5326210</td>\n",
       "      <td>10917984</td>\n",
       "      <td>7296418.250</td>\n",
       "    </tr>\n",
       "    <tr>\n",
       "      <th>19</th>\n",
       "      <td>2016</td>\n",
       "      <td>Medium</td>\n",
       "      <td>1305601</td>\n",
       "      <td>10621115</td>\n",
       "      <td>3703528.364</td>\n",
       "    </tr>\n",
       "    <tr>\n",
       "      <th>20</th>\n",
       "      <td>2016</td>\n",
       "      <td>Small</td>\n",
       "      <td>708052</td>\n",
       "      <td>898997</td>\n",
       "      <td>814905.500</td>\n",
       "    </tr>\n",
       "    <tr>\n",
       "      <th>21</th>\n",
       "      <td>2017</td>\n",
       "      <td>Large</td>\n",
       "      <td>5510845</td>\n",
       "      <td>10626861</td>\n",
       "      <td>8045856.000</td>\n",
       "    </tr>\n",
       "    <tr>\n",
       "      <th>22</th>\n",
       "      <td>2017</td>\n",
       "      <td>Medium</td>\n",
       "      <td>1272499</td>\n",
       "      <td>10979691</td>\n",
       "      <td>4083782.682</td>\n",
       "    </tr>\n",
       "    <tr>\n",
       "      <th>23</th>\n",
       "      <td>2017</td>\n",
       "      <td>Small</td>\n",
       "      <td>700376</td>\n",
       "      <td>895626</td>\n",
       "      <td>788126.353</td>\n",
       "    </tr>\n",
       "    <tr>\n",
       "      <th>24</th>\n",
       "      <td>2018</td>\n",
       "      <td>Large</td>\n",
       "      <td>5391320</td>\n",
       "      <td>10588033</td>\n",
       "      <td>8550336.083</td>\n",
       "    </tr>\n",
       "    <tr>\n",
       "      <th>25</th>\n",
       "      <td>2018</td>\n",
       "      <td>Medium</td>\n",
       "      <td>1320367</td>\n",
       "      <td>9676577</td>\n",
       "      <td>3818022.977</td>\n",
       "    </tr>\n",
       "    <tr>\n",
       "      <th>26</th>\n",
       "      <td>2018</td>\n",
       "      <td>Small</td>\n",
       "      <td>709067</td>\n",
       "      <td>899305</td>\n",
       "      <td>812216.765</td>\n",
       "    </tr>\n",
       "    <tr>\n",
       "      <th>27</th>\n",
       "      <td>2019</td>\n",
       "      <td>Large</td>\n",
       "      <td>5777771</td>\n",
       "      <td>9966444</td>\n",
       "      <td>7457349.417</td>\n",
       "    </tr>\n",
       "    <tr>\n",
       "      <th>28</th>\n",
       "      <td>2019</td>\n",
       "      <td>Medium</td>\n",
       "      <td>1245489</td>\n",
       "      <td>10577619</td>\n",
       "      <td>3789454.977</td>\n",
       "    </tr>\n",
       "    <tr>\n",
       "      <th>29</th>\n",
       "      <td>2019</td>\n",
       "      <td>Small</td>\n",
       "      <td>706027</td>\n",
       "      <td>897812</td>\n",
       "      <td>798687.853</td>\n",
       "    </tr>\n",
       "  </tbody>\n",
       "</table>\n",
       "</div>"
      ],
      "text/plain": [
       "    Year store_size  min_sales  max_sales   mean_sales\n",
       "0   2010      Large    5025220    9948300  7443921.833\n",
       "1   2010     Medium    1239054   10879916  3961769.023\n",
       "2   2010      Small     716994     899886   820415.647\n",
       "3   2011      Large    5425048   10299090  7587367.917\n",
       "4   2011     Medium    1200117   10209396  3927108.795\n",
       "5   2011      Small     700252     882538   789511.118\n",
       "6   2012      Large    5315163   10535206  8193226.667\n",
       "7   2012     Medium    1286037   10115883  3857584.864\n",
       "8   2012      Small     705517     899283   820607.824\n",
       "9   2013      Large    6928616   10077952  8603598.333\n",
       "10  2013     Medium    1214273   10932803  4164988.500\n",
       "11  2013      Small     701446     899903   801941.824\n",
       "12  2014      Large    6618923   10733767  8713484.000\n",
       "13  2014     Medium    1208364   10968327  3864360.114\n",
       "14  2014      Small     700093     891037   790390.029\n",
       "15  2015      Large    5024573   10663025  7437140.083\n",
       "16  2015     Medium    1220658   10652502  3636965.932\n",
       "17  2015      Small     703880     894129   799064.412\n",
       "18  2016      Large    5326210   10917984  7296418.250\n",
       "19  2016     Medium    1305601   10621115  3703528.364\n",
       "20  2016      Small     708052     898997   814905.500\n",
       "21  2017      Large    5510845   10626861  8045856.000\n",
       "22  2017     Medium    1272499   10979691  4083782.682\n",
       "23  2017      Small     700376     895626   788126.353\n",
       "24  2018      Large    5391320   10588033  8550336.083\n",
       "25  2018     Medium    1320367    9676577  3818022.977\n",
       "26  2018      Small     709067     899305   812216.765\n",
       "27  2019      Large    5777771    9966444  7457349.417\n",
       "28  2019     Medium    1245489   10577619  3789454.977\n",
       "29  2019      Small     706027     897812   798687.853"
      ]
     },
     "execution_count": 44,
     "metadata": {},
     "output_type": "execute_result"
    }
   ],
   "source": [
    "# Transferring the above selection to dataframe for better display purposes#\n",
    "results = pd.read_sql_query(query1,conn).round(decimals = 3)\n",
    "results"
   ]
  },
  {
   "cell_type": "code",
   "execution_count": 45,
   "id": "36b32877",
   "metadata": {},
   "outputs": [
    {
     "data": {
      "text/plain": [
       "Text(0.5, 1.0, 'mean sales(small stores)')"
      ]
     },
     "execution_count": 45,
     "metadata": {},
     "output_type": "execute_result"
    },
    {
     "data": {
      "image/png": "[encoded data removed]",
      "text/plain": [
       "<Figure size 432x288 with 1 Axes>"
      ]
     },
     "metadata": {
      "needs_background": "light"
     },
     "output_type": "display_data"
    }
   ],
   "source": [
    "sns.barplot(data=results.loc[results['store_size'] == 'Small'], x='Year', y='mean_sales')\n",
    "plt.ylim(750000, 850000)\n",
    "plt.title(\"mean sales(small stores)\")"
   ]
  },
  {
   "cell_type": "code",
   "execution_count": 46,
   "id": "1da7c5c2",
   "metadata": {},
   "outputs": [
    {
     "data": {
      "text/plain": [
       "Text(0.5, 1.0, 'mean sales(medium stores)')"
      ]
     },
     "execution_count": 46,
     "metadata": {},
     "output_type": "execute_result"
    },
    {
     "data": {
      "image/png": "[encoded data removed]",
      "text/plain": [
       "<Figure size 432x288 with 1 Axes>"
      ]
     },
     "metadata": {
      "needs_background": "light"
     },
     "output_type": "display_data"
    }
   ],
   "source": [
    "sns.barplot(data=results.loc[results['store_size'] == 'Medium'], x='Year', y='mean_sales')\n",
    "plt.ylim(3500000, 4500000)\n",
    "plt.title(\"mean sales(medium stores)\")"
   ]
  },
  {
   "cell_type": "code",
   "execution_count": 47,
   "id": "b102f23d",
   "metadata": {},
   "outputs": [
    {
     "data": {
      "text/plain": [
       "Text(0.5, 1.0, 'mean sales(large stores)')"
      ]
     },
     "execution_count": 47,
     "metadata": {},
     "output_type": "execute_result"
    },
    {
     "data": {
      "image/png": "[encoded data removed]",
      "text/plain": [
       "<Figure size 432x288 with 1 Axes>"
      ]
     },
     "metadata": {
      "needs_background": "light"
     },
     "output_type": "display_data"
    }
   ],
   "source": [
    "sns.barplot(data=results.loc[results['store_size'] == 'Large'], x='Year', y='mean_sales')\n",
    "plt.ylim(7100000, 8800000)\n",
    "plt.title(\"mean sales(large stores)\")"
   ]
  },
  {
   "cell_type": "markdown",
   "id": "df4fd390",
   "metadata": {},
   "source": [
    "### Soln-2- Reading a JSON file and displaying out a dictionary ###"
   ]
  },
  {
   "cell_type": "code",
   "execution_count": 48,
   "id": "3bb5557a",
   "metadata": {},
   "outputs": [],
   "source": [
    "# Defining a function to read the json file and display it in the for of a dictionary#\n",
    "\n",
    "def ret_sls(filename):\n",
    "    with open(filename, encoding='utf-8') as f:\n",
    "        shop = json.load(f)\n",
    "        tot_sales=0\n",
    "        shop_det={}\n",
    "        shop_det['Name']=shop['Name']\n",
    "        shop_det['City']=shop['Address'].split(',')[0]\n",
    "        shop_det['Postcode']=shop['Address'].split(',')[1]\n",
    "        shop_det['Open_year']=shop['Opened']\n",
    "        shop_det['Area']=shop['Area']\n",
    "        if int(shop['Area'][0:-3])<1000:\n",
    "            shop_det['Postcode']=shop['Address']\n",
    "            shop_det['Store_Size']='Small'\n",
    "        elif int(shop['Area'][0:-3])>4000:\n",
    "            shop_det['Store_size']='Large'\n",
    "        elif int(shop['Area'][0:-3])>1000 and int(shop['Area'][0:-3])<4000:\n",
    "            shop_det['Store_size']='Medium'\n",
    "        for i in shop['Sales']['Quarters']:\n",
    "            tot_sales=tot_sales+(i[1])\n",
    "        shop_det['Year']=shop['Sales']['Year']\n",
    "        shop_det['Sales']= tot_sales\n",
    "        return shop_det\n",
    "    "
   ]
  },
  {
   "cell_type": "code",
   "execution_count": 49,
   "id": "fc4483d3",
   "metadata": {},
   "outputs": [
    {
     "data": {
      "text/plain": [
       "{'Name': 'Oxford1',\n",
       " 'City': 'Oxford',\n",
       " 'Postcode': ' OX5 1NS',\n",
       " 'Open_year': 1990,\n",
       " 'Area': '2750msq',\n",
       " 'Store_size': 'Medium',\n",
       " 'Year': 2019,\n",
       " 'Sales': 3951000}"
      ]
     },
     "execution_count": 49,
     "metadata": {},
     "output_type": "execute_result"
    }
   ],
   "source": [
    "# Testing the above function #\n",
    "ret_sls('Oxford1Sales2019.json')"
   ]
  },
  {
   "cell_type": "markdown",
   "id": "51f65de7",
   "metadata": {},
   "source": [
    "### Solution 3a(i)--- 10 stores in the small size category with the least sales ###"
   ]
  },
  {
   "cell_type": "code",
   "execution_count": 50,
   "id": "33001e0c",
   "metadata": {},
   "outputs": [
    {
     "data": {
      "text/plain": [
       "[('London15', 'Small', 1447418),\n",
       " ('Birmingham7', 'Small', 1467575),\n",
       " ('London20', 'Small', 1487807),\n",
       " ('Birmingham11', 'Small', 1501104),\n",
       " ('Glasgow1', 'Small', 1508752),\n",
       " ('Bristol9', 'Small', 1508893),\n",
       " ('Birmingham20', 'Small', 1540796),\n",
       " ('Birmingham4', 'Small', 1543698),\n",
       " ('Manchester3', 'Small', 1545017),\n",
       " ('Birmingham2', 'Small', 1545086)]"
      ]
     },
     "execution_count": 50,
     "metadata": {},
     "output_type": "execute_result"
    }
   ],
   "source": [
    "query2= '''select a.name,store_size,sum(sales)as Cumu from store_data a inner join sales_info b on a.name = b.name Where store_size='Small' and year in (2018,2019) group by a.name Order by Cumu LIMIT 10'''\n",
    "cursor.execute(query2).fetchall()"
   ]
  },
  {
   "cell_type": "code",
   "execution_count": 51,
   "id": "6c8c99b3",
   "metadata": {},
   "outputs": [
    {
     "data": {
      "text/html": [
       "<div>\n",
       "<style scoped>\n",
       "    .dataframe tbody tr th:only-of-type {\n",
       "        vertical-align: middle;\n",
       "    }\n",
       "\n",
       "    .dataframe tbody tr th {\n",
       "        vertical-align: top;\n",
       "    }\n",
       "\n",
       "    .dataframe thead th {\n",
       "        text-align: right;\n",
       "    }\n",
       "</style>\n",
       "<table border=\"1\" class=\"dataframe\">\n",
       "  <thead>\n",
       "    <tr style=\"text-align: right;\">\n",
       "      <th></th>\n",
       "      <th>Name</th>\n",
       "      <th>store_size</th>\n",
       "      <th>Cumu</th>\n",
       "    </tr>\n",
       "  </thead>\n",
       "  <tbody>\n",
       "    <tr>\n",
       "      <th>0</th>\n",
       "      <td>London15</td>\n",
       "      <td>Small</td>\n",
       "      <td>1447418</td>\n",
       "    </tr>\n",
       "    <tr>\n",
       "      <th>1</th>\n",
       "      <td>Birmingham7</td>\n",
       "      <td>Small</td>\n",
       "      <td>1467575</td>\n",
       "    </tr>\n",
       "    <tr>\n",
       "      <th>2</th>\n",
       "      <td>London20</td>\n",
       "      <td>Small</td>\n",
       "      <td>1487807</td>\n",
       "    </tr>\n",
       "    <tr>\n",
       "      <th>3</th>\n",
       "      <td>Birmingham11</td>\n",
       "      <td>Small</td>\n",
       "      <td>1501104</td>\n",
       "    </tr>\n",
       "    <tr>\n",
       "      <th>4</th>\n",
       "      <td>Glasgow1</td>\n",
       "      <td>Small</td>\n",
       "      <td>1508752</td>\n",
       "    </tr>\n",
       "    <tr>\n",
       "      <th>5</th>\n",
       "      <td>Bristol9</td>\n",
       "      <td>Small</td>\n",
       "      <td>1508893</td>\n",
       "    </tr>\n",
       "    <tr>\n",
       "      <th>6</th>\n",
       "      <td>Birmingham20</td>\n",
       "      <td>Small</td>\n",
       "      <td>1540796</td>\n",
       "    </tr>\n",
       "    <tr>\n",
       "      <th>7</th>\n",
       "      <td>Birmingham4</td>\n",
       "      <td>Small</td>\n",
       "      <td>1543698</td>\n",
       "    </tr>\n",
       "    <tr>\n",
       "      <th>8</th>\n",
       "      <td>Manchester3</td>\n",
       "      <td>Small</td>\n",
       "      <td>1545017</td>\n",
       "    </tr>\n",
       "    <tr>\n",
       "      <th>9</th>\n",
       "      <td>Birmingham2</td>\n",
       "      <td>Small</td>\n",
       "      <td>1545086</td>\n",
       "    </tr>\n",
       "  </tbody>\n",
       "</table>\n",
       "</div>"
      ],
      "text/plain": [
       "           Name store_size     Cumu\n",
       "0      London15      Small  1447418\n",
       "1   Birmingham7      Small  1467575\n",
       "2      London20      Small  1487807\n",
       "3  Birmingham11      Small  1501104\n",
       "4      Glasgow1      Small  1508752\n",
       "5      Bristol9      Small  1508893\n",
       "6  Birmingham20      Small  1540796\n",
       "7   Birmingham4      Small  1543698\n",
       "8   Manchester3      Small  1545017\n",
       "9   Birmingham2      Small  1545086"
      ]
     },
     "execution_count": 51,
     "metadata": {},
     "output_type": "execute_result"
    }
   ],
   "source": [
    "least_sales=pd.read_sql_query(query2,conn) \n",
    "least_sales"
   ]
  },
  {
   "cell_type": "code",
   "execution_count": 52,
   "id": "6ec64932",
   "metadata": {},
   "outputs": [],
   "source": [
    "### Solution 3a-(ii)-Marketing spend for the above 10 stores"
   ]
  },
  {
   "cell_type": "code",
   "execution_count": 53,
   "id": "3764a972",
   "metadata": {},
   "outputs": [
    {
     "data": {
      "text/plain": [
       "[('London15', 'Small', 394432),\n",
       " ('Birmingham7', 'Small', 395962),\n",
       " ('Birmingham2', 'Small', 399508),\n",
       " ('Manchester3', 'Small', 401210),\n",
       " ('Birmingham20', 'Small', 401812),\n",
       " ('Birmingham11', 'Small', 403392),\n",
       " ('Bristol9', 'Small', 405241),\n",
       " ('London20', 'Small', 408281),\n",
       " ('Glasgow1', 'Small', 412373),\n",
       " ('Birmingham4', 'Small', 427698)]"
      ]
     },
     "execution_count": 53,
     "metadata": {},
     "output_type": "execute_result"
    }
   ],
   "source": [
    "query3='''select f.name,f.store_size,sum(g.MarketingSpend) as Totmkt\n",
    "from \n",
    "(select a.name,store_size,sum(sales) as Cumu\n",
    "from store_data a\n",
    "inner join \n",
    "sales_info b\n",
    "on a.name = b.name\n",
    "Where store_size='Small' and year in (2018,2019) \n",
    "group by a.name\n",
    "Order by Cumu LIMIT 10)f\n",
    "inner join\n",
    "marketing_info g\n",
    "on f.name=g.name\n",
    "group by f.name,f.store_size\n",
    "Order by Totmkt'''\n",
    "cursor.execute(query3).fetchall()"
   ]
  },
  {
   "cell_type": "code",
   "execution_count": 54,
   "id": "b3dafe19",
   "metadata": {},
   "outputs": [
    {
     "data": {
      "text/html": [
       "<div>\n",
       "<style scoped>\n",
       "    .dataframe tbody tr th:only-of-type {\n",
       "        vertical-align: middle;\n",
       "    }\n",
       "\n",
       "    .dataframe tbody tr th {\n",
       "        vertical-align: top;\n",
       "    }\n",
       "\n",
       "    .dataframe thead th {\n",
       "        text-align: right;\n",
       "    }\n",
       "</style>\n",
       "<table border=\"1\" class=\"dataframe\">\n",
       "  <thead>\n",
       "    <tr style=\"text-align: right;\">\n",
       "      <th></th>\n",
       "      <th>name</th>\n",
       "      <th>store_size</th>\n",
       "      <th>Totmkt</th>\n",
       "    </tr>\n",
       "  </thead>\n",
       "  <tbody>\n",
       "    <tr>\n",
       "      <th>0</th>\n",
       "      <td>London15</td>\n",
       "      <td>Small</td>\n",
       "      <td>394432</td>\n",
       "    </tr>\n",
       "    <tr>\n",
       "      <th>1</th>\n",
       "      <td>Birmingham7</td>\n",
       "      <td>Small</td>\n",
       "      <td>395962</td>\n",
       "    </tr>\n",
       "    <tr>\n",
       "      <th>2</th>\n",
       "      <td>Birmingham2</td>\n",
       "      <td>Small</td>\n",
       "      <td>399508</td>\n",
       "    </tr>\n",
       "    <tr>\n",
       "      <th>3</th>\n",
       "      <td>Manchester3</td>\n",
       "      <td>Small</td>\n",
       "      <td>401210</td>\n",
       "    </tr>\n",
       "    <tr>\n",
       "      <th>4</th>\n",
       "      <td>Birmingham20</td>\n",
       "      <td>Small</td>\n",
       "      <td>401812</td>\n",
       "    </tr>\n",
       "    <tr>\n",
       "      <th>5</th>\n",
       "      <td>Birmingham11</td>\n",
       "      <td>Small</td>\n",
       "      <td>403392</td>\n",
       "    </tr>\n",
       "    <tr>\n",
       "      <th>6</th>\n",
       "      <td>Bristol9</td>\n",
       "      <td>Small</td>\n",
       "      <td>405241</td>\n",
       "    </tr>\n",
       "    <tr>\n",
       "      <th>7</th>\n",
       "      <td>London20</td>\n",
       "      <td>Small</td>\n",
       "      <td>408281</td>\n",
       "    </tr>\n",
       "    <tr>\n",
       "      <th>8</th>\n",
       "      <td>Glasgow1</td>\n",
       "      <td>Small</td>\n",
       "      <td>412373</td>\n",
       "    </tr>\n",
       "    <tr>\n",
       "      <th>9</th>\n",
       "      <td>Birmingham4</td>\n",
       "      <td>Small</td>\n",
       "      <td>427698</td>\n",
       "    </tr>\n",
       "  </tbody>\n",
       "</table>\n",
       "</div>"
      ],
      "text/plain": [
       "           name store_size  Totmkt\n",
       "0      London15      Small  394432\n",
       "1   Birmingham7      Small  395962\n",
       "2   Birmingham2      Small  399508\n",
       "3   Manchester3      Small  401210\n",
       "4  Birmingham20      Small  401812\n",
       "5  Birmingham11      Small  403392\n",
       "6      Bristol9      Small  405241\n",
       "7      London20      Small  408281\n",
       "8      Glasgow1      Small  412373\n",
       "9   Birmingham4      Small  427698"
      ]
     },
     "execution_count": 54,
     "metadata": {},
     "output_type": "execute_result"
    }
   ],
   "source": [
    "# Total amount spent for each of the 10 stores#\n",
    "sm_mkt= pd.read_sql_query(query3,conn)\n",
    "sm_mkt"
   ]
  },
  {
   "cell_type": "code",
   "execution_count": 55,
   "id": "7255fce8",
   "metadata": {},
   "outputs": [
    {
     "data": {
      "text/plain": [
       "[('London15', 'Small', '2018-2019', 73149),\n",
       " ('Birmingham7', 'Small', '2018-2019', 79033),\n",
       " ('London20', 'Small', '2018-2019', 72799),\n",
       " ('Birmingham11', 'Small', '2018-2019', 86793),\n",
       " ('Glasgow1', 'Small', '2018-2019', 77572),\n",
       " ('Bristol9', 'Small', '2018-2019', 85743),\n",
       " ('Birmingham20', 'Small', '2018-2019', 82936),\n",
       " ('Birmingham4', 'Small', '2018-2019', 88297),\n",
       " ('Manchester3', 'Small', '2018-2019', 72430),\n",
       " ('Birmingham2', 'Small', '2018-2019', 84995)]"
      ]
     },
     "execution_count": 55,
     "metadata": {},
     "output_type": "execute_result"
    }
   ],
   "source": [
    "query4= '''select f.name,f.store_size,g.year,g.MarketingSpend\n",
    "from \n",
    "(select a.Name,store_size,sum(sales) as Cumu\n",
    "from store_data a\n",
    "inner join \n",
    "sales_info b\n",
    "on a.name = b.name\n",
    "Where store_size='Small' and year in (2018,2019) \n",
    "group by a.name\n",
    "Order by Cumu LIMIT 10)f\n",
    "inner join\n",
    "marketing_info g\n",
    "on f.name=g.name\n",
    "Where year='2018-2019' '''\n",
    "cursor.execute(query4).fetchall()"
   ]
  },
  {
   "cell_type": "code",
   "execution_count": 56,
   "id": "c2e4c17c",
   "metadata": {},
   "outputs": [
    {
     "data": {
      "text/html": [
       "<div>\n",
       "<style scoped>\n",
       "    .dataframe tbody tr th:only-of-type {\n",
       "        vertical-align: middle;\n",
       "    }\n",
       "\n",
       "    .dataframe tbody tr th {\n",
       "        vertical-align: top;\n",
       "    }\n",
       "\n",
       "    .dataframe thead th {\n",
       "        text-align: right;\n",
       "    }\n",
       "</style>\n",
       "<table border=\"1\" class=\"dataframe\">\n",
       "  <thead>\n",
       "    <tr style=\"text-align: right;\">\n",
       "      <th></th>\n",
       "      <th>Name</th>\n",
       "      <th>store_size</th>\n",
       "      <th>Year</th>\n",
       "      <th>MarketingSpend</th>\n",
       "    </tr>\n",
       "  </thead>\n",
       "  <tbody>\n",
       "    <tr>\n",
       "      <th>0</th>\n",
       "      <td>London15</td>\n",
       "      <td>Small</td>\n",
       "      <td>2018-2019</td>\n",
       "      <td>73149</td>\n",
       "    </tr>\n",
       "    <tr>\n",
       "      <th>1</th>\n",
       "      <td>Birmingham7</td>\n",
       "      <td>Small</td>\n",
       "      <td>2018-2019</td>\n",
       "      <td>79033</td>\n",
       "    </tr>\n",
       "    <tr>\n",
       "      <th>2</th>\n",
       "      <td>London20</td>\n",
       "      <td>Small</td>\n",
       "      <td>2018-2019</td>\n",
       "      <td>72799</td>\n",
       "    </tr>\n",
       "    <tr>\n",
       "      <th>3</th>\n",
       "      <td>Birmingham11</td>\n",
       "      <td>Small</td>\n",
       "      <td>2018-2019</td>\n",
       "      <td>86793</td>\n",
       "    </tr>\n",
       "    <tr>\n",
       "      <th>4</th>\n",
       "      <td>Glasgow1</td>\n",
       "      <td>Small</td>\n",
       "      <td>2018-2019</td>\n",
       "      <td>77572</td>\n",
       "    </tr>\n",
       "    <tr>\n",
       "      <th>5</th>\n",
       "      <td>Bristol9</td>\n",
       "      <td>Small</td>\n",
       "      <td>2018-2019</td>\n",
       "      <td>85743</td>\n",
       "    </tr>\n",
       "    <tr>\n",
       "      <th>6</th>\n",
       "      <td>Birmingham20</td>\n",
       "      <td>Small</td>\n",
       "      <td>2018-2019</td>\n",
       "      <td>82936</td>\n",
       "    </tr>\n",
       "    <tr>\n",
       "      <th>7</th>\n",
       "      <td>Birmingham4</td>\n",
       "      <td>Small</td>\n",
       "      <td>2018-2019</td>\n",
       "      <td>88297</td>\n",
       "    </tr>\n",
       "    <tr>\n",
       "      <th>8</th>\n",
       "      <td>Manchester3</td>\n",
       "      <td>Small</td>\n",
       "      <td>2018-2019</td>\n",
       "      <td>72430</td>\n",
       "    </tr>\n",
       "    <tr>\n",
       "      <th>9</th>\n",
       "      <td>Birmingham2</td>\n",
       "      <td>Small</td>\n",
       "      <td>2018-2019</td>\n",
       "      <td>84995</td>\n",
       "    </tr>\n",
       "  </tbody>\n",
       "</table>\n",
       "</div>"
      ],
      "text/plain": [
       "           Name store_size       Year  MarketingSpend\n",
       "0      London15      Small  2018-2019           73149\n",
       "1   Birmingham7      Small  2018-2019           79033\n",
       "2      London20      Small  2018-2019           72799\n",
       "3  Birmingham11      Small  2018-2019           86793\n",
       "4      Glasgow1      Small  2018-2019           77572\n",
       "5      Bristol9      Small  2018-2019           85743\n",
       "6  Birmingham20      Small  2018-2019           82936\n",
       "7   Birmingham4      Small  2018-2019           88297\n",
       "8   Manchester3      Small  2018-2019           72430\n",
       "9   Birmingham2      Small  2018-2019           84995"
      ]
     },
     "execution_count": 56,
     "metadata": {},
     "output_type": "execute_result"
    }
   ],
   "source": [
    "# Marketing spent for each of the 10 stores for 2018-2019#\n",
    "mkt_l2= pd.read_sql_query(query4,conn)\n",
    "mkt_l2"
   ]
  },
  {
   "cell_type": "code",
   "execution_count": 57,
   "id": "058f617b",
   "metadata": {},
   "outputs": [
    {
     "data": {
      "text/plain": [
       "[('Small', '2018-2019', 803747)]"
      ]
     },
     "execution_count": 57,
     "metadata": {},
     "output_type": "execute_result"
    }
   ],
   "source": [
    "query6= '''select f.store_size,g.year,sum(g.MarketingSpend) as TotMkt\n",
    "from \n",
    "(select a.Name,store_size,sum(sales) as Cumu\n",
    "from store_data a\n",
    "inner join \n",
    "sales_info b\n",
    "on a.name = b.name\n",
    "Where store_size='Small' and year in (2018,2019) \n",
    "group by a.name\n",
    "Order by Cumu LIMIT 10)f\n",
    "inner join\n",
    "marketing_info g\n",
    "on f.name=g.name\n",
    "Where year='2018-2019' '''\n",
    "cursor.execute(query6).fetchall()"
   ]
  },
  {
   "cell_type": "code",
   "execution_count": 58,
   "id": "40e87930",
   "metadata": {},
   "outputs": [
    {
     "data": {
      "text/html": [
       "<div>\n",
       "<style scoped>\n",
       "    .dataframe tbody tr th:only-of-type {\n",
       "        vertical-align: middle;\n",
       "    }\n",
       "\n",
       "    .dataframe tbody tr th {\n",
       "        vertical-align: top;\n",
       "    }\n",
       "\n",
       "    .dataframe thead th {\n",
       "        text-align: right;\n",
       "    }\n",
       "</style>\n",
       "<table border=\"1\" class=\"dataframe\">\n",
       "  <thead>\n",
       "    <tr style=\"text-align: right;\">\n",
       "      <th></th>\n",
       "      <th>store_size</th>\n",
       "      <th>Year</th>\n",
       "      <th>TotMkt</th>\n",
       "    </tr>\n",
       "  </thead>\n",
       "  <tbody>\n",
       "    <tr>\n",
       "      <th>0</th>\n",
       "      <td>Small</td>\n",
       "      <td>2018-2019</td>\n",
       "      <td>803747</td>\n",
       "    </tr>\n",
       "  </tbody>\n",
       "</table>\n",
       "</div>"
      ],
      "text/plain": [
       "  store_size       Year  TotMkt\n",
       "0      Small  2018-2019  803747"
      ]
     },
     "execution_count": 58,
     "metadata": {},
     "output_type": "execute_result"
    }
   ],
   "source": [
    "# The Total Marketing Spend for the above 10 stores in 2018-2019 is as follows#\n",
    "mkt_tot= pd.read_sql_query(query6,conn)\n",
    "mkt_tot"
   ]
  },
  {
   "cell_type": "markdown",
   "id": "cbddf001",
   "metadata": {},
   "source": [
    "### Solution-3b- Predicting sales based on marketing expenditure ###"
   ]
  },
  {
   "cell_type": "code",
   "execution_count": 59,
   "id": "6f57ee54",
   "metadata": {},
   "outputs": [
    {
     "data": {
      "text/plain": [
       "[('Birmingham11', 'Small', '2018-2019', 86793, 1501104),\n",
       " ('Birmingham2', 'Small', '2018-2019', 84995, 1545086),\n",
       " ('Birmingham20', 'Small', '2018-2019', 82936, 1540796),\n",
       " ('Birmingham4', 'Small', '2018-2019', 88297, 1543698),\n",
       " ('Birmingham7', 'Small', '2018-2019', 79033, 1467575),\n",
       " ('Bristol9', 'Small', '2018-2019', 85743, 1508893),\n",
       " ('Glasgow1', 'Small', '2018-2019', 77572, 1508752),\n",
       " ('London15', 'Small', '2018-2019', 73149, 1447418),\n",
       " ('London20', 'Small', '2018-2019', 72799, 1487807),\n",
       " ('Manchester3', 'Small', '2018-2019', 72430, 1545017)]"
      ]
     },
     "execution_count": 59,
     "metadata": {},
     "output_type": "execute_result"
    }
   ],
   "source": [
    "# Bringing together the data for sales and marketing for the stores in discussion for the years 2018-2019#\n",
    "query5= '''select h.*,sum(sales) as Cum_sales\n",
    "from\n",
    "(select f.name,f.store_size,g.year,g.MarketingSpend\n",
    "from \n",
    "(select a.name,store_size,sum(sales) as Cumu\n",
    "from store_data a\n",
    "inner join \n",
    "sales_info b\n",
    "on a.name = b.name\n",
    "Where store_size='Small' and year in (2018,2019) \n",
    "group by a.name\n",
    "Order by Cumu LIMIT 10)f\n",
    "inner join\n",
    "marketing_info g\n",
    "on f.name=g.name\n",
    "Where year='2018-2019')h\n",
    "inner join \n",
    "sales_info i\n",
    "on h.name=i.name\n",
    "Where store_size='Small' and i.year in (2018,2019) \n",
    "group by h.name,h.store_size,h.year,h.marketingspend'''\n",
    "cursor.execute(query5).fetchall()"
   ]
  },
  {
   "cell_type": "code",
   "execution_count": 60,
   "id": "b38666a3",
   "metadata": {},
   "outputs": [
    {
     "data": {
      "text/html": [
       "<div>\n",
       "<style scoped>\n",
       "    .dataframe tbody tr th:only-of-type {\n",
       "        vertical-align: middle;\n",
       "    }\n",
       "\n",
       "    .dataframe tbody tr th {\n",
       "        vertical-align: top;\n",
       "    }\n",
       "\n",
       "    .dataframe thead th {\n",
       "        text-align: right;\n",
       "    }\n",
       "</style>\n",
       "<table border=\"1\" class=\"dataframe\">\n",
       "  <thead>\n",
       "    <tr style=\"text-align: right;\">\n",
       "      <th></th>\n",
       "      <th>name</th>\n",
       "      <th>store_size</th>\n",
       "      <th>year</th>\n",
       "      <th>MarketingSpend</th>\n",
       "      <th>Cum_sales</th>\n",
       "    </tr>\n",
       "  </thead>\n",
       "  <tbody>\n",
       "    <tr>\n",
       "      <th>0</th>\n",
       "      <td>Birmingham11</td>\n",
       "      <td>Small</td>\n",
       "      <td>2018-2019</td>\n",
       "      <td>86793</td>\n",
       "      <td>1501104</td>\n",
       "    </tr>\n",
       "    <tr>\n",
       "      <th>1</th>\n",
       "      <td>Birmingham2</td>\n",
       "      <td>Small</td>\n",
       "      <td>2018-2019</td>\n",
       "      <td>84995</td>\n",
       "      <td>1545086</td>\n",
       "    </tr>\n",
       "    <tr>\n",
       "      <th>2</th>\n",
       "      <td>Birmingham20</td>\n",
       "      <td>Small</td>\n",
       "      <td>2018-2019</td>\n",
       "      <td>82936</td>\n",
       "      <td>1540796</td>\n",
       "    </tr>\n",
       "    <tr>\n",
       "      <th>3</th>\n",
       "      <td>Birmingham4</td>\n",
       "      <td>Small</td>\n",
       "      <td>2018-2019</td>\n",
       "      <td>88297</td>\n",
       "      <td>1543698</td>\n",
       "    </tr>\n",
       "    <tr>\n",
       "      <th>4</th>\n",
       "      <td>Birmingham7</td>\n",
       "      <td>Small</td>\n",
       "      <td>2018-2019</td>\n",
       "      <td>79033</td>\n",
       "      <td>1467575</td>\n",
       "    </tr>\n",
       "    <tr>\n",
       "      <th>5</th>\n",
       "      <td>Bristol9</td>\n",
       "      <td>Small</td>\n",
       "      <td>2018-2019</td>\n",
       "      <td>85743</td>\n",
       "      <td>1508893</td>\n",
       "    </tr>\n",
       "    <tr>\n",
       "      <th>6</th>\n",
       "      <td>Glasgow1</td>\n",
       "      <td>Small</td>\n",
       "      <td>2018-2019</td>\n",
       "      <td>77572</td>\n",
       "      <td>1508752</td>\n",
       "    </tr>\n",
       "    <tr>\n",
       "      <th>7</th>\n",
       "      <td>London15</td>\n",
       "      <td>Small</td>\n",
       "      <td>2018-2019</td>\n",
       "      <td>73149</td>\n",
       "      <td>1447418</td>\n",
       "    </tr>\n",
       "    <tr>\n",
       "      <th>8</th>\n",
       "      <td>London20</td>\n",
       "      <td>Small</td>\n",
       "      <td>2018-2019</td>\n",
       "      <td>72799</td>\n",
       "      <td>1487807</td>\n",
       "    </tr>\n",
       "    <tr>\n",
       "      <th>9</th>\n",
       "      <td>Manchester3</td>\n",
       "      <td>Small</td>\n",
       "      <td>2018-2019</td>\n",
       "      <td>72430</td>\n",
       "      <td>1545017</td>\n",
       "    </tr>\n",
       "  </tbody>\n",
       "</table>\n",
       "</div>"
      ],
      "text/plain": [
       "           name store_size       year  MarketingSpend  Cum_sales\n",
       "0  Birmingham11      Small  2018-2019           86793    1501104\n",
       "1   Birmingham2      Small  2018-2019           84995    1545086\n",
       "2  Birmingham20      Small  2018-2019           82936    1540796\n",
       "3   Birmingham4      Small  2018-2019           88297    1543698\n",
       "4   Birmingham7      Small  2018-2019           79033    1467575\n",
       "5      Bristol9      Small  2018-2019           85743    1508893\n",
       "6      Glasgow1      Small  2018-2019           77572    1508752\n",
       "7      London15      Small  2018-2019           73149    1447418\n",
       "8      London20      Small  2018-2019           72799    1487807\n",
       "9   Manchester3      Small  2018-2019           72430    1545017"
      ]
     },
     "execution_count": 60,
     "metadata": {},
     "output_type": "execute_result"
    }
   ],
   "source": [
    "salmak= pd.read_sql_query(query5,conn)\n",
    "salmak"
   ]
  },
  {
   "cell_type": "code",
   "execution_count": 61,
   "id": "f4c3fd51",
   "metadata": {},
   "outputs": [],
   "source": [
    "mar_lst= salmak['MarketingSpend'].tolist()\n",
    "sal_lst= salmak['Cum_sales'].tolist()"
   ]
  },
  {
   "cell_type": "code",
   "execution_count": 62,
   "id": "78346fc0",
   "metadata": {},
   "outputs": [],
   "source": [
    "comp_df=copy.deepcopy(salmak)"
   ]
  },
  {
   "cell_type": "code",
   "execution_count": 63,
   "id": "919a597b",
   "metadata": {},
   "outputs": [],
   "source": [
    "def sales_pred(sales, market,sales_pred):\n",
    "    ch_index=[]\n",
    "    ch_sum=0\n",
    "    index = list(range(len(sales)))  \n",
    "    ratio = [v / w for v, w in zip(sales, market)]\n",
    "    index.sort(key=lambda i: ratio[i], reverse=True)\n",
    "    doub_i= round(len(sales)/2)\n",
    "    ch_weights= copy.deepcopy(market)\n",
    "    ch_sales=copy.deepcopy(sales)\n",
    "    for i in range(0,doub_i):\n",
    "        ch_weights[index[i]]= ch_weights[index[i]]*2\n",
    "        ch_index.append(index[i])\n",
    "        k=len(ch_index)\n",
    "    while k>0 :\n",
    "        for j in range(k-1,-1,-1):\n",
    "            ch_sum=ch_sum+ch_weights[ch_index[j]]\n",
    "            if ch_sum >=sum(market):\n",
    "                ch_weights[ch_index[k-1]]=(ch_weights[ch_index[k-1]]/2)\n",
    "                k=k-1\n",
    "                ch_sum=0\n",
    "                break\n",
    "            elif ch_sum<sum(market) and j==0:\n",
    "                k=0\n",
    "                \n",
    "\n",
    "    if sum(market)>sum(ch_weights):\n",
    "        diff1= sum(market)-sum(ch_weights)\n",
    "        for m in range(len(ch_index),len(index)):\n",
    "            for n in (1,0.75,0.5,0.33,0.25):\n",
    "                if ch_weights[index[m]]+(diff1*n) <= 2* market[index[m]]:\n",
    "                    ch_weights[index[m]]=ch_weights[index[m]]+(diff1*n)\n",
    "                    diff1=diff1-diff1*n\n",
    "                    continue\n",
    "        if diff1!=0:\n",
    "            for o in range(0,len(index)):\n",
    "                if ch_weights[index[o]] <= 2* market[index[o]] and diff1>0:\n",
    "                    canadd=2*market[index[o]]-ch_weights[index[o]]\n",
    "                    if diff1>canadd:\n",
    "                        ch_weights[index[o]]=ch_weights[index[o]]+ canadd\n",
    "                        diff1=diff1-canadd\n",
    "                    else:\n",
    "                        ch_weights[index[o]]=ch_weights[index[o]]+diff1\n",
    "                        diff1=diff1-diff1  \n",
    "                    continue  \n",
    "        \n",
    "\n",
    "\n",
    "\n",
    "    else:\n",
    "        diff2= sum(ch_weights)-sum(market)\n",
    "        for m in range(len(index)-1,len(ch_index)-1,-1):\n",
    "            for n in (1,0.75,0.5,0.33,0.25):\n",
    "                if ch_weights[index[m]]-(diff2*n) >= 0.5* market[index[m]]:\n",
    "                    ch_weights[index[m]]=ch_weights[index[m]]-(diff2*n)\n",
    "                    diff2=diff2-diff2*n\n",
    "                    continue\n",
    "        if diff2!=0:\n",
    "            for o in range(len(index)-1,-1,-1):\n",
    "                if ch_weights[index[o]] >= 0.5* market[index[o]] and diff2>0:\n",
    "                    deficit=ch_weights[index[o]]-0.5*market[index[o]]\n",
    "                    if diff2>deficit:\n",
    "                        ch_weights[index[o]]=ch_weights[index[o]]-deficit\n",
    "                        diff2=diff2-deficit\n",
    "                    else:\n",
    "                        ch_weights[index[o]]=ch_weights[index[o]]-diff2\n",
    "                        diff2=diff2-diff2  \n",
    "                    continue  \n",
    "                    \n",
    "    \n",
    "    for eq in range(0,len(ch_weights)):\n",
    "        if ch_weights[eq]>market[eq]:\n",
    "            ch_sales[eq]= ch_sales[eq]*(ch_weights[eq]/market[eq])\n",
    "        else:\n",
    "            ch_sales[eq]= ch_sales[eq]/(market[eq]/ch_weights[eq]) \n",
    "    \n",
    "    comp_df['Pred_Sales']= ch_sales\n",
    "    comp_df['Pred_marketing']= ch_weights\n",
    "    comp_df['Pred_Sales']=comp_df['Pred_Sales'].apply(lambda x: '%.3f' % x)\n",
    "    comp_df['Pred_Sales']=comp_df['Pred_Sales'].apply(lambda x:float(x))\n",
    "    comp_df['Pred_marketing']=comp_df['Pred_marketing'].apply(lambda x: '%.3f' % x)\n",
    "    comp_df['Pred_marketing']=comp_df['Pred_marketing'].apply(lambda x:float(x))\n",
    "    return comp_df"
   ]
  },
  {
   "cell_type": "code",
   "execution_count": 64,
   "id": "5b393afc",
   "metadata": {},
   "outputs": [
    {
     "data": {
      "text/html": [
       "<div>\n",
       "<style scoped>\n",
       "    .dataframe tbody tr th:only-of-type {\n",
       "        vertical-align: middle;\n",
       "    }\n",
       "\n",
       "    .dataframe tbody tr th {\n",
       "        vertical-align: top;\n",
       "    }\n",
       "\n",
       "    .dataframe thead th {\n",
       "        text-align: right;\n",
       "    }\n",
       "</style>\n",
       "<table border=\"1\" class=\"dataframe\">\n",
       "  <thead>\n",
       "    <tr style=\"text-align: right;\">\n",
       "      <th></th>\n",
       "      <th>name</th>\n",
       "      <th>store_size</th>\n",
       "      <th>year</th>\n",
       "      <th>MarketingSpend</th>\n",
       "      <th>Cum_sales</th>\n",
       "      <th>Pred_Sales</th>\n",
       "      <th>Pred_marketing</th>\n",
       "    </tr>\n",
       "  </thead>\n",
       "  <tbody>\n",
       "    <tr>\n",
       "      <th>0</th>\n",
       "      <td>Birmingham11</td>\n",
       "      <td>Small</td>\n",
       "      <td>2018-2019</td>\n",
       "      <td>86793</td>\n",
       "      <td>1501104</td>\n",
       "      <td>750552.00</td>\n",
       "      <td>43396.5</td>\n",
       "    </tr>\n",
       "    <tr>\n",
       "      <th>1</th>\n",
       "      <td>Birmingham2</td>\n",
       "      <td>Small</td>\n",
       "      <td>2018-2019</td>\n",
       "      <td>84995</td>\n",
       "      <td>1545086</td>\n",
       "      <td>772543.00</td>\n",
       "      <td>42497.5</td>\n",
       "    </tr>\n",
       "    <tr>\n",
       "      <th>2</th>\n",
       "      <td>Birmingham20</td>\n",
       "      <td>Small</td>\n",
       "      <td>2018-2019</td>\n",
       "      <td>82936</td>\n",
       "      <td>1540796</td>\n",
       "      <td>770398.00</td>\n",
       "      <td>41468.0</td>\n",
       "    </tr>\n",
       "    <tr>\n",
       "      <th>3</th>\n",
       "      <td>Birmingham4</td>\n",
       "      <td>Small</td>\n",
       "      <td>2018-2019</td>\n",
       "      <td>88297</td>\n",
       "      <td>1543698</td>\n",
       "      <td>771849.00</td>\n",
       "      <td>44148.5</td>\n",
       "    </tr>\n",
       "    <tr>\n",
       "      <th>4</th>\n",
       "      <td>Birmingham7</td>\n",
       "      <td>Small</td>\n",
       "      <td>2018-2019</td>\n",
       "      <td>79033</td>\n",
       "      <td>1467575</td>\n",
       "      <td>733787.50</td>\n",
       "      <td>39516.5</td>\n",
       "    </tr>\n",
       "    <tr>\n",
       "      <th>5</th>\n",
       "      <td>Bristol9</td>\n",
       "      <td>Small</td>\n",
       "      <td>2018-2019</td>\n",
       "      <td>85743</td>\n",
       "      <td>1508893</td>\n",
       "      <td>754446.50</td>\n",
       "      <td>42871.5</td>\n",
       "    </tr>\n",
       "    <tr>\n",
       "      <th>6</th>\n",
       "      <td>Glasgow1</td>\n",
       "      <td>Small</td>\n",
       "      <td>2018-2019</td>\n",
       "      <td>77572</td>\n",
       "      <td>1508752</td>\n",
       "      <td>2199615.01</td>\n",
       "      <td>113092.5</td>\n",
       "    </tr>\n",
       "    <tr>\n",
       "      <th>7</th>\n",
       "      <td>London15</td>\n",
       "      <td>Small</td>\n",
       "      <td>2018-2019</td>\n",
       "      <td>73149</td>\n",
       "      <td>1447418</td>\n",
       "      <td>2894836.00</td>\n",
       "      <td>146298.0</td>\n",
       "    </tr>\n",
       "    <tr>\n",
       "      <th>8</th>\n",
       "      <td>London20</td>\n",
       "      <td>Small</td>\n",
       "      <td>2018-2019</td>\n",
       "      <td>72799</td>\n",
       "      <td>1487807</td>\n",
       "      <td>2975614.00</td>\n",
       "      <td>145598.0</td>\n",
       "    </tr>\n",
       "    <tr>\n",
       "      <th>9</th>\n",
       "      <td>Manchester3</td>\n",
       "      <td>Small</td>\n",
       "      <td>2018-2019</td>\n",
       "      <td>72430</td>\n",
       "      <td>1545017</td>\n",
       "      <td>3090034.00</td>\n",
       "      <td>144860.0</td>\n",
       "    </tr>\n",
       "  </tbody>\n",
       "</table>\n",
       "</div>"
      ],
      "text/plain": [
       "           name store_size       year  MarketingSpend  Cum_sales  Pred_Sales  \\\n",
       "0  Birmingham11      Small  2018-2019           86793    1501104   750552.00   \n",
       "1   Birmingham2      Small  2018-2019           84995    1545086   772543.00   \n",
       "2  Birmingham20      Small  2018-2019           82936    1540796   770398.00   \n",
       "3   Birmingham4      Small  2018-2019           88297    1543698   771849.00   \n",
       "4   Birmingham7      Small  2018-2019           79033    1467575   733787.50   \n",
       "5      Bristol9      Small  2018-2019           85743    1508893   754446.50   \n",
       "6      Glasgow1      Small  2018-2019           77572    1508752  2199615.01   \n",
       "7      London15      Small  2018-2019           73149    1447418  2894836.00   \n",
       "8      London20      Small  2018-2019           72799    1487807  2975614.00   \n",
       "9   Manchester3      Small  2018-2019           72430    1545017  3090034.00   \n",
       "\n",
       "   Pred_marketing  \n",
       "0         43396.5  \n",
       "1         42497.5  \n",
       "2         41468.0  \n",
       "3         44148.5  \n",
       "4         39516.5  \n",
       "5         42871.5  \n",
       "6        113092.5  \n",
       "7        146298.0  \n",
       "8        145598.0  \n",
       "9        144860.0  "
      ]
     },
     "execution_count": 64,
     "metadata": {},
     "output_type": "execute_result"
    }
   ],
   "source": [
    "final_pred=sales_pred(sal_lst,mar_lst,comp_df)\n",
    "final_pred"
   ]
  },
  {
   "cell_type": "code",
   "execution_count": 65,
   "id": "0b34c6c6",
   "metadata": {},
   "outputs": [
    {
     "name": "stdout",
     "output_type": "stream",
     "text": [
      "Sales in 2018-2019 was: 15096146\n",
      "Marketing Cost in 2018-2019 was: 803747\n",
      "Sales in 2020-2021 is predicted to be: 15713675.01\n",
      "Marketing in 2020-2021 is same as before,which is: 803747.0\n",
      "The sales in 2020-2021 are predicted to rise by: 617529.0099999998\n"
     ]
    }
   ],
   "source": [
    "print(\"Sales in 2018-2019 was: \"+str(final_pred['Cum_sales'].sum())+\"\\nMarketing Cost in 2018-2019 was: \"+str(final_pred['MarketingSpend'].sum())+ \"\\nSales in 2020-2021 is predicted to be: \"+str(final_pred['Pred_Sales'].sum())+ \"\\nMarketing in 2020-2021 is same as before,which is: \"+str(final_pred['Pred_marketing'].sum())+\"\\nThe sales in 2020-2021 are predicted to rise by: \"+str(final_pred['Pred_Sales'].sum()-final_pred['Cum_sales'].sum()))"
   ]
  },
  {
   "cell_type": "code",
   "execution_count": 66,
   "id": "59d4d4bf",
   "metadata": {},
   "outputs": [],
   "source": [
    "conn.close()"
   ]
  }
 ],
 "metadata": {
  "kernelspec": {
   "display_name": "Python 3 (ipykernel)",
   "language": "python",
   "name": "python3"
  },
  "language_info": {
   "codemirror_mode": {
    "name": "ipython",
    "version": 3
   },
   "file_extension": ".py",
   "mimetype": "text/x-python",
   "name": "python",
   "nbconvert_exporter": "python",
   "pygments_lexer": "ipython3",
   "version": "3.8.12"
  }
 },
 "nbformat": 4,
 "nbformat_minor": 5
}
